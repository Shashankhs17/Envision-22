{
 "cells": [
  {
   "cell_type": "markdown",
   "metadata": {},
   "source": [
    "# Envision 2022"
   ]
  },
  {
   "cell_type": "markdown",
   "metadata": {},
   "source": [
    "## Basic Setup\n",
    "\n",
    "Importing and Loading the URDF/SDF"
   ]
  },
  {
   "cell_type": "code",
   "execution_count": 2,
   "metadata": {},
   "outputs": [
    {
     "name": "stderr",
     "output_type": "stream",
     "text": [
      "pybullet build time: Oct 11 2021 21:00:24\n"
     ]
    },
    {
     "name": "stdout",
     "output_type": "stream",
     "text": [
      "startThreads creating 1 threads.\n",
      "starting thread 0\n",
      "started thread 0 \n",
      "argc=2\n",
      "argv[0] = --unused\n",
      "argv[1] = --start_demo_name=Physics Server\n",
      "ExampleBrowserThreadFunc started\n",
      "X11 functions dynamically loaded using dlopen/dlsym OK!\n",
      "X11 functions dynamically loaded using dlopen/dlsym OK!\n",
      "Creating context\n",
      "Created GL 3.3 context\n",
      "Direct GLX rendering context obtained\n",
      "Making context current\n",
      "GL_VENDOR=NVIDIA Corporation\n",
      "GL_RENDERER=NVIDIA GeForce MX230/PCIe/SSE2\n",
      "GL_VERSION=3.3.0 NVIDIA 470.129.06\n",
      "GL_SHADING_LANGUAGE_VERSION=3.30 NVIDIA via Cg compiler\n",
      "pthread_getconcurrency()=0\n",
      "Version = 3.3.0 NVIDIA 470.129.06\n",
      "Vendor = NVIDIA Corporation\n",
      "Renderer = NVIDIA GeForce MX230/PCIe/SSE2\n",
      "b3Printf: Selected demo: Physics Server\n",
      "startThreads creating 1 threads.\n",
      "starting thread 0\n",
      "started thread 0 \n",
      "MotionThreadFunc thread started\n",
      "ven = NVIDIA Corporation\n",
      "ven = NVIDIA Corporation\n"
     ]
    }
   ],
   "source": [
    "import pybullet as p\n",
    "\n",
    "physicsClientID = p.connect(p.GUI)\n",
    "\n",
    "import pybullet_data\n",
    "\n",
    "p.setAdditionalSearchPath(pybullet_data.getDataPath())"
   ]
  },
  {
   "cell_type": "code",
   "execution_count": 4,
   "metadata": {
    "scrolled": true
   },
   "outputs": [],
   "source": [
    "def loadFiles():\n",
    "    plane = p.loadURDF('plane.urdf')\n",
    "\n",
    "    print(plane)\n",
    "\n",
    "    robot_StartPos = [0,0,0]\n",
    "    robot_StartOrientation = p.getQuaternionFromEuler([0,0,0])\n",
    "\n",
    "    robot = p.loadURDF(\"kuka_experimental/kuka_lbr_iiwa_support/urdf/lbr_iiwa_14_r820.urdf\",robot_StartPos, robot_StartOrientation)\n",
    "\n",
    "    numOfJoints = p.getNumJoints(robot)\n",
    "\n",
    "    print(f\"Plane = {plane} \\nStart Position = {robot_StartPos} \\nStart Orientation = {robot_StartOrientation} \\nRobot = {robot} \\nNumber of joints = {numOfJoints}\")\n",
    "\n",
    "    # print(\"Joint Details :\")\n",
    "    # for i in range(numOfJoints):\n",
    "    #     print(p.getJointInfo(robot, i))\n",
    "        \n",
    "    return plane, robot, robot_StartPos, robot_StartOrientation"
   ]
  },
  {
   "cell_type": "code",
   "execution_count": 3,
   "metadata": {},
   "outputs": [],
   "source": [
    "# trying to load sdf file\n",
    "\n",
    "def load_sdf():\n",
    "\n",
    "    # foam_brick = p.loadSDF(\"drake/examples/manipulation_station/models/061_foam_brick.sdf\")\n",
    "    # amazon_table = p.loadSDF(\"drake/examples/manipulation_station/models/amazon_table_simplified.sdf\")\n",
    "    bin1 = p.loadSDF(\"drake/examples/manipulation_station/models/bin.sdf\")\n",
    "    bin2 = p.loadSDF(\"drake/examples/manipulation_station/models/bin.sdf\")\n",
    "    gripper = p.loadSDF(\"drake/manipulation/models/wsg_50_description/sdf/schunk_wsg_50.sdf\")\n",
    "    # gripper = p.loadSDF(\"drake/manipulation/models/wsg_50_description/sdf/schunk_wsg_50_with_tip.sdf\")\n",
    "    # cupboard = p.loadSDF(\"drake/examples/manipulation_station/models/cupboard.sdf\")\n",
    "    # cylinder = p.loadSDF(\"drake/examples/manipulation_station/models/cylinder.sdf\")\n",
    "    # sphere = p.loadSDF(\"drake/examples/manipulation_station/models/sphere.sdf\")\n",
    "    # thin_box = p.loadSDF(\"drake/examples/manipulation_station/models/thin_box.sdf\")\n",
    "    # thin_cylinder = p.loadSDF(\"drake/examples/manipulation_station/models/thin_cylinder.sdf\")\n",
    "\n",
    "    print(\"loaded!\")\n",
    "    # return [foam_brick,amazon_table,bin,cupboard,cylinder,sphere,thin_box,thin_cylinder]\n",
    "    return bin1, bin2, gripper"
   ]
  },
  {
   "cell_type": "code",
   "execution_count": 56,
   "metadata": {},
   "outputs": [
    {
     "name": "stdout",
     "output_type": "stream",
     "text": [
      "b3Printf: b3Warning[examples/Importers/ImportURDFDemo/BulletUrdfImporter.cpp,126]:\n",
      "\n",
      "b3Printf: expected a world element, continuing without it.\n",
      "b3Printf: b3Warning[examples/Importers/ImportURDFDemo/BulletUrdfImporter.cpp,126]:\n",
      "\n",
      "b3Printf: expected a world element, continuing without it.\n",
      "loaded!\n",
      "b3Printf: b3Warning[examples/Importers/ImportURDFDemo/BulletUrdfImporter.cpp,126]:\n",
      "\n",
      "b3Printf: expected a world element, continuing without it.\n"
     ]
    }
   ],
   "source": [
    "bin1, bin2, gripper = load_sdf()\n",
    "bin1_position = [1,0,0]\n",
    "bin1_Orientation = p.getQuaternionFromEuler([0,0,0])\n",
    "p.resetBasePositionAndOrientation(bin1[0],bin1_position,bin1_Orientation)\n",
    "\n",
    "bin2_position = [0,1,0]\n",
    "bin2_Orientation = p.getQuaternionFromEuler([0,0,1.57079632679])\n",
    "p.resetBasePositionAndOrientation(bin2[0],bin2_position,bin2_Orientation)\n",
    "\n",
    "gripper_position = [1,1,0]\n",
    "gripper_Orientation = p.getQuaternionFromEuler([0,0,0])\n",
    "p.resetBasePositionAndOrientation(gripper[0],gripper_position,gripper_Orientation)\n",
    "\n"
   ]
  },
  {
   "cell_type": "code",
   "execution_count": 45,
   "metadata": {},
   "outputs": [],
   "source": [
    "p.setRealTimeSimulation(0)\n",
    "p.resetSimulation()"
   ]
  },
  {
   "cell_type": "markdown",
   "metadata": {},
   "source": [
    "## Setting Up Camera"
   ]
  },
  {
   "cell_type": "code",
   "execution_count": 6,
   "metadata": {},
   "outputs": [],
   "source": [
    "def getImage(robot) :\n",
    "    \n",
    "    # The Camera will be placed on the Link 7 and will always be looking downwards\n",
    "    \n",
    "    # The Position and orientation of the Link 7 will be used to determine the camera position and orientation\n",
    "    cameraPosition = p.getLinkState(robot, 7)[0]\n",
    "    cameraOrientation = p.getEulerFromQuaternion(p.getLinkState(robot, 7)[1])\n",
    "\n",
    "    print(f\"\\nCamera Position: {cameraPosition} \\nCamera Orientation: {cameraOrientation}\")\n",
    "\n",
    "    # The viewMatrix The camera view matrix is a complicated 4x4 matrix, but in simplest terms it describes where the camera is and in what direction it is pointing. There are some useful helper functions for creating this matrix by specifying position and rotation more directly. The function computeViewMatrix can create this matrix in exchange for three vectors.\n",
    "    viewMatrix = p.computeViewMatrix(\n",
    "        # cameraEyePosition describes the physical location of the camera in x, y, and z coordinates\n",
    "        cameraEyePosition = cameraPosition,\n",
    "        # cameraTargetPosition describes the point that we wish the camera to face : Negative Z direction, that is downwards\n",
    "        cameraTargetPosition = [0, 0, -1],\n",
    "        # cameraUpVector describes the orientation of the camera\n",
    "        cameraUpVector = cameraOrientation)\n",
    "\n",
    "    # The projection matrix, much like the view matrix, can be created using a few helper functions. In this case, the computeProjectionMatrixFOV function describes our camera’s intrinsic properties in the simplest and most pertinent ways to our use case.\n",
    "    projectionMatrix = p.computeProjectionMatrixFOV(\n",
    "        # Field of View\n",
    "        fov = 45.0,\n",
    "        # Aspect ratio\n",
    "        aspect = 1.0,\n",
    "        # The minimum distance the camera will render objects\n",
    "        nearVal = 0.1,\n",
    "        # The maximum distance the camera will render objects\n",
    "        farVal = 10.1)\n",
    "\n",
    "    # This function returns three image buffers: rgbImg, depthImg, and segImg. rgbImg is a uint8 image with red, green, blue, and alpha channels of the camera’s visuals. depthImg is a floating-point grayscale image that describes the distance of individual rendered pixels from the camera. It can be used to model the field-of-view of a real-world depth sensor. Lastly, segImg is a segmentation mask of the image where pixels each contain unique integers with object IDs. These are invaluable for training segmentation algorithms for robotic agents, such as a robotic arm that needs to identify objects to sort into respective bins or for a driverless car that wants to identify pedestrians, street signs, and roads.\n",
    "    width, height, rgbImg, depthImg, segImg = p.getCameraImage(\n",
    "        # Width of the image in pixels\n",
    "        width = 224, \n",
    "        # Height of the image in pixels\n",
    "        height = 224,\n",
    "        # view matrix as the one deifined above\n",
    "        viewMatrix = viewMatrix,\n",
    "        # projectionMatrix as the one deifined above\n",
    "        projectionMatrix = projectionMatrix)\n",
    "    \n",
    "    return width, height, rgbImg, depthImg, segImg"
   ]
  },
  {
   "cell_type": "markdown",
   "metadata": {},
   "source": [
    "## Function Calls"
   ]
  },
  {
   "cell_type": "code",
   "execution_count": 57,
   "metadata": {},
   "outputs": [
    {
     "name": "stdout",
     "output_type": "stream",
     "text": [
      "3\n",
      "b3Printf: b3Warning[examples/Importers/ImportURDFDemo/BulletUrdfImporter.cpp,126]:\n",
      "\n",
      "b3Printf: No inertial data for link, using mass=1, localinertiadiagonal = 1,1,1, identity local inertial frame\n",
      "b3Printf: b3Warning[examples/Importers/ImportURDFDemo/BulletUrdfImporter.cpp,126]:\n",
      "\n",
      "b3Printf: base_link\n",
      "b3Printf: b3Warning[examples/Importers/ImportURDFDemo/BulletUrdfImporter.cpp,126]:\n",
      "\n",
      "b3Printf: No inertial data for link, using mass=1, localinertiadiagonal = 1,1,1, identity local inertial frame\n",
      "b3Printf: b3Warning[examples/Importers/ImportURDFDemo/BulletUrdfImporter.cpp,126]:\n",
      "\n",
      "b3Printf: link_1\n",
      "b3Printf: b3Warning[examples/Importers/ImportURDFDemo/BulletUrdfImporter.cpp,126]:\n",
      "\n",
      "b3Printf: No inertial data for link, using mass=1, localinertiadiagonal = 1,1,1, identity local inertial frame\n",
      "b3Printf: b3Warning[examples/Importers/ImportURDFDemo/BulletUrdfImporter.cpp,126]:\n",
      "\n",
      "b3Printf: link_2\n",
      "b3Printf: b3Warning[examples/Importers/ImportURDFDemo/BulletUrdfImporter.cpp,126]:\n",
      "\n",
      "b3Printf: No inertial data for link, using mass=1, localinertiadiagonal = 1,1,1, identity local inertial frame\n",
      "b3Printf: b3Warning[examples/Importers/ImportURDFDemo/BulletUrdfImporter.cpp,126]:\n",
      "\n",
      "b3Printf: link_3\n",
      "b3Printf: b3Warning[examples/Importers/ImportURDFDemo/BulletUrdfImporter.cpp,126]:\n",
      "\n",
      "b3Printf: No inertial data for link, using mass=1, localinertiadiagonal = 1,1,1, identity local inertial frame\n",
      "b3Printf: b3Warning[examples/Importers/ImportURDFDemo/BulletUrdfImporter.cpp,126]:\n",
      "\n",
      "b3Printf: link_4\n",
      "b3Printf: b3Warning[examples/Importers/ImportURDFDemo/BulletUrdfImporter.cpp,126]:\n",
      "\n",
      "b3Printf: No inertial data for link, using mass=1, localinertiadiagonal = 1,1,1, identity local inertial frame\n",
      "b3Printf: b3Warning[examples/Importers/ImportURDFDemo/BulletUrdfImporter.cpp,126]:\n",
      "\n",
      "b3Printf: link_5\n",
      "b3Printf: b3Warning[examples/Importers/ImportURDFDemo/BulletUrdfImporter.cpp,126]:\n",
      "\n",
      "b3Printf: No inertial data for link, using mass=1, localinertiadiagonal = 1,1,1, identity local inertial frame\n",
      "b3Printf: b3Warning[examples/Importers/ImportURDFDemo/BulletUrdfImporter.cpp,126]:\n",
      "\n",
      "b3Printf: link_6\n",
      "b3Printf: b3Warning[examples/Importers/ImportURDFDemo/BulletUrdfImporter.cpp,126]:\n",
      "\n",
      "b3Printf: No inertial data for link, using mass=1, localinertiadiagonal = 1,1,1, identity local inertial frame\n",
      "b3Printf: b3Warning[examples/Importers/ImportURDFDemo/BulletUrdfImporter.cpp,126]:\n",
      "\n",
      "b3Printf: link_7\n",
      "b3Printf: b3Warning[examples/Importers/ImportURDFDemo/BulletUrdfImporter.cpp,126]:\n",
      "\n",
      "b3Printf: No inertial data for link, using mass=1, localinertiadiagonal = 1,1,1, identity local inertial frame\n",
      "b3Printf: b3Warning[examples/Importers/ImportURDFDemo/BulletUrdfImporter.cpp,126]:\n",
      "\n",
      "b3Printf: tool0\n",
      "b3Printf: b3Warning[examples/Importers/ImportURDFDemo/BulletUrdfImporter.cpp,126]:\n",
      "\n",
      "b3Printf: No inertial data for link, using mass=1, localinertiadiagonal = 1,1,1, identity local inertial frame\n",
      "b3Printf: b3Warning[examples/Importers/ImportURDFDemo/BulletUrdfImporter.cpp,126]:\n",
      "\n",
      "b3Printf: base\n",
      "Plane = 3 \n",
      "Start Position = [0, 0, 0] \n",
      "Start Orientation = (0.0, 0.0, 0.0, 1.0) \n",
      "Robot = 4 \n",
      "Number of joints = 9\n"
     ]
    }
   ],
   "source": [
    "plane, robot, robot_StartPos, robot_StartOrientation = loadFiles()"
   ]
  },
  {
   "cell_type": "code",
   "execution_count": 48,
   "metadata": {},
   "outputs": [],
   "source": [
    "# reset pos and orientation of robot\n",
    "# p.resetBaseVelocity(robot)\n",
    "p.resetBasePositionAndOrientation(robot,robot_StartPos,robot_StartOrientation)"
   ]
  },
  {
   "cell_type": "code",
   "execution_count": 58,
   "metadata": {},
   "outputs": [
    {
     "name": "stdout",
     "output_type": "stream",
     "text": [
      "1\n",
      "1\n",
      "2\n",
      "1\n",
      "3\n",
      "1\n"
     ]
    }
   ],
   "source": [
    "# fix base of robot to plane\n",
    "\n",
    "cid = p.createConstraint(robot, -1, plane, -1, p.JOINT_FIXED, [0, 0, 0], [0, 0, 0], [0, 0, 0])\n",
    "print(cid)\n",
    "print(p.getConstraintUniqueId(0))\n",
    "\n",
    "# fix bins to plane\n",
    "\n",
    "cid = p.createConstraint(bin1[0], -1, plane, -1, p.JOINT_FIXED, [0, 0, 0], [0, 0, 0], bin1_position, childFrameOrientation = bin1_Orientation)\n",
    "print(cid)\n",
    "print(p.getConstraintUniqueId(0))\n",
    "\n",
    "cid = p.createConstraint(bin2[0], -1, plane, -1, p.JOINT_FIXED, [0, 0, 0], [0, 0, 0], bin2_position, childFrameOrientation = bin2_Orientation)\n",
    "print(cid)\n",
    "print(p.getConstraintUniqueId(0))\n",
    "\n",
    "# cid = p.createConstraint(gripper[0], -1, plane, -1, p.JOINT_FIXED, [0, 0, 0], [0, 0, 0], gripper_position, childFrameOrientation = gripper_Orientation)\n",
    "# print(cid)\n",
    "# print(p.getConstraintUniqueId(0))\n"
   ]
  },
  {
   "cell_type": "code",
   "execution_count": 51,
   "metadata": {},
   "outputs": [],
   "source": [
    "_link_name_to_index = {p.getBodyInfo(gripper[0])[0].decode('UTF-8'):-1,}\n",
    "        \n",
    "for _id in range(p.getNumJoints(gripper[0])):\n",
    "\t_name = p.getJointInfo(gripper[0], _id)[12].decode('UTF-8')\n",
    "\t_link_name_to_index[_name] = _id"
   ]
  },
  {
   "cell_type": "code",
   "execution_count": 24,
   "metadata": {},
   "outputs": [
    {
     "name": "stdout",
     "output_type": "stream",
     "text": [
      "{'body': -1, 'left_finger': 0, 'right_finger': 1}\n"
     ]
    }
   ],
   "source": [
    "print(_link_name_to_index)"
   ]
  },
  {
   "cell_type": "code",
   "execution_count": 52,
   "metadata": {},
   "outputs": [],
   "source": [
    "_link_name_to_index = {p.getBodyInfo(robot)[0].decode('UTF-8'):-1,}\n",
    "        \n",
    "for _id in range(p.getNumJoints(robot)):\n",
    "\t_name = p.getJointInfo(robot, _id)[12].decode('UTF-8')\n",
    "\t_link_name_to_index[_name] = _id"
   ]
  },
  {
   "cell_type": "code",
   "execution_count": 53,
   "metadata": {},
   "outputs": [
    {
     "name": "stdout",
     "output_type": "stream",
     "text": [
      "{'base_link': -1, 'link_1': 0, 'link_2': 1, 'link_3': 2, 'link_4': 3, 'link_5': 4, 'link_6': 5, 'link_7': 6, 'tool0': 7, 'base': 8}\n"
     ]
    }
   ],
   "source": [
    "print(_link_name_to_index)"
   ]
  },
  {
   "cell_type": "code",
   "execution_count": 59,
   "metadata": {},
   "outputs": [
    {
     "name": "stdout",
     "output_type": "stream",
     "text": [
      "4\n",
      "1\n"
     ]
    }
   ],
   "source": [
    "# contraint the body and gripper\n",
    "cid_g = p.createConstraint(robot, 6, gripper[0], -1, p.JOINT_FIXED, [0, 0, 0], [0, 0, 0], gripper_position, childFrameOrientation = gripper_Orientation)\n",
    "print(cid_g)\n",
    "print(p.getConstraintUniqueId(0))\n"
   ]
  },
  {
   "cell_type": "code",
   "execution_count": null,
   "metadata": {},
   "outputs": [],
   "source": [
    "# realtime camera analysis\n",
    "import time\n",
    "for _ in range(10000):\n",
    "    width, height, rgbImg, depthImg, segImg = getImage(robot)\n",
    "    time.sleep(0.1)"
   ]
  },
  {
   "cell_type": "markdown",
   "metadata": {},
   "source": [
    "## Simulation parameters"
   ]
  },
  {
   "cell_type": "code",
   "execution_count": null,
   "metadata": {},
   "outputs": [],
   "source": [
    "p.setGravity(0, 0, 0)"
   ]
  },
  {
   "cell_type": "code",
   "execution_count": 34,
   "metadata": {
    "scrolled": true
   },
   "outputs": [],
   "source": [
    "p.setGravity(0, 0, -9.81)"
   ]
  },
  {
   "cell_type": "code",
   "execution_count": 41,
   "metadata": {
    "scrolled": true
   },
   "outputs": [],
   "source": [
    "p.setRealTimeSimulation(1)"
   ]
  },
  {
   "cell_type": "code",
   "execution_count": 29,
   "metadata": {},
   "outputs": [],
   "source": [
    "p.setRealTimeSimulation(0)"
   ]
  },
  {
   "cell_type": "code",
   "execution_count": 55,
   "metadata": {
    "scrolled": true
   },
   "outputs": [],
   "source": [
    "p.setRealTimeSimulation(0)\n",
    "p.resetSimulation()"
   ]
  },
  {
   "cell_type": "markdown",
   "metadata": {},
   "source": [
    "## Disconnect from the Server"
   ]
  },
  {
   "cell_type": "code",
   "execution_count": null,
   "metadata": {
    "scrolled": true
   },
   "outputs": [],
   "source": [
    "p.disconnect()"
   ]
  },
  {
   "cell_type": "markdown",
   "metadata": {},
   "source": [
    "## Rough"
   ]
  },
  {
   "cell_type": "code",
   "execution_count": null,
   "metadata": {},
   "outputs": [],
   "source": [
    "print(p.getJointInfo(robot, 6))\n",
    "print(\"Position = \", p.getJointInfo(robot, 6)[14])\n",
    "print(\"Orientation\", p.getEulerFromQuaternion(p.getJointInfo(robot, 6)[15]))"
   ]
  },
  {
   "cell_type": "code",
   "execution_count": null,
   "metadata": {},
   "outputs": [],
   "source": [
    "p.setJointMotorControl2(robot, 5, p.VELOCITY_CONTROL, targetVelocity =  -0.2)"
   ]
  },
  {
   "cell_type": "code",
   "execution_count": null,
   "metadata": {
    "scrolled": true
   },
   "outputs": [],
   "source": [
    "p.setJointMotorControlArray(robot, range(9), p.POSITION_CONTROL, targetPositions =  [0]*9)"
   ]
  },
  {
   "cell_type": "code",
   "execution_count": null,
   "metadata": {
    "scrolled": true
   },
   "outputs": [],
   "source": [
    "p.setJointMotorControl2(robot, 1, p.POSITION_CONTROL, targetPosition =  0.5)"
   ]
  }
 ],
 "metadata": {
  "kernelspec": {
   "display_name": "Python 3.10.4 64-bit",
   "language": "python",
   "name": "python3"
  },
  "language_info": {
   "codemirror_mode": {
    "name": "ipython",
    "version": 3
   },
   "file_extension": ".py",
   "mimetype": "text/x-python",
   "name": "python",
   "nbconvert_exporter": "python",
   "pygments_lexer": "ipython3",
   "version": "3.9.7"
  },
  "vscode": {
   "interpreter": {
    "hash": "369f2c481f4da34e4445cda3fffd2e751bd1c4d706f27375911949ba6bb62e1c"
   }
  }
 },
 "nbformat": 4,
 "nbformat_minor": 2
}
